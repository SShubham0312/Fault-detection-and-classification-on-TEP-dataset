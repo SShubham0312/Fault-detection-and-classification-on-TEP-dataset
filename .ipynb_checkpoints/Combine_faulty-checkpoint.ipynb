{
 "cells": [
  {
   "cell_type": "code",
   "execution_count": 2,
   "id": "1b567fa6-d842-4bf9-ac76-9ee8d20b5f03",
   "metadata": {},
   "outputs": [
    {
     "name": "stdout",
     "output_type": "stream",
     "text": [
      "Combined dataset saved to Converted_CSVs/combined_simulation_dataset.csv\n"
     ]
    }
   ],
   "source": [
    "import pandas as pd\n",
    "\n",
    "# File paths\n",
    "file_path_normal = 'Converted_CSVs/simulation_dataset_first_5_faultfree.csv'\n",
    "file_path_faulty = 'Converted_CSVs/simulation_dataset_first_5.csv'\n",
    "\n",
    "# Read the CSV files\n",
    "df_normal = pd.read_csv(file_path_normal)\n",
    "df_faulty = pd.read_csv(file_path_faulty)\n",
    "\n",
    "# Add faultNumber = 0 for the normal dataset if it's not already present\n",
    "df_normal['faultNumber'] = 0\n",
    "\n",
    "# Combine both datasets by concatenating them\n",
    "df_combined = pd.concat([df_normal, df_faulty], ignore_index=True)\n",
    "\n",
    "# Optionally, save the combined dataframe to a new CSV file\n",
    "output_file = 'Converted_CSVs/combined_simulation_dataset.csv'\n",
    "df_combined.to_csv(output_file, index=False)\n",
    "\n",
    "print(f\"Combined dataset saved to {output_file}\")\n"
   ]
  },
  {
   "cell_type": "code",
   "execution_count": 9,
   "id": "55998dbc-fa3a-4dea-a969-42887833d233",
   "metadata": {},
   "outputs": [],
   "source": [
    "file = 'Converted_CSVs/combined_simulation_dataset.csv'\n",
    "df = pd.read_csv(file)\n",
    "# Assuming 'df' is your DataFrame\n",
    "# Sort by 'simulationRun' and then by 'faultNumber'\n",
    "df_sorted = df.sort_values(by=['simulationRun', 'faultNumber'])\n",
    "\n",
    "# Optionally, you can reset the index after sorting\n",
    "df_sorted.reset_index(drop=True, inplace=True)\n",
    "\n",
    "output_file = 'Converted_CSVs/combined_simulation_dataset_sorted.csv'\n",
    "df_sorted.to_csv(output_file, index=False)\n",
    "\n"
   ]
  },
  {
   "cell_type": "code",
   "execution_count": null,
   "id": "eb8c1bec-782b-44b0-9616-a61cc3ca61f1",
   "metadata": {},
   "outputs": [],
   "source": []
  }
 ],
 "metadata": {
  "kernelspec": {
   "display_name": "Python 3 (ipykernel)",
   "language": "python",
   "name": "python3"
  },
  "language_info": {
   "codemirror_mode": {
    "name": "ipython",
    "version": 3
   },
   "file_extension": ".py",
   "mimetype": "text/x-python",
   "name": "python",
   "nbconvert_exporter": "python",
   "pygments_lexer": "ipython3",
   "version": "3.12.5"
  }
 },
 "nbformat": 4,
 "nbformat_minor": 5
}
