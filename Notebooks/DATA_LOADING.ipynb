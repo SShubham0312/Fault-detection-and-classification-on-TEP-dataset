{
 "cells": [
  {
   "cell_type": "code",
   "execution_count": 1,
   "id": "4c6e97aa-500d-4b4a-b09a-ae27bc5a73a8",
   "metadata": {},
   "outputs": [
    {
     "name": "stdout",
     "output_type": "stream",
     "text": [
      "Processing: TEP_Dataset\\TEP_FaultFree_Testing.RData\n",
      "Saved: Converted_CSVs\\fault_free_testing.csv\n",
      "Processing: TEP_Dataset\\TEP_FaultFree_Training.RData\n",
      "Saved: Converted_CSVs\\fault_free_training.csv\n",
      "Processing: TEP_Dataset\\TEP_Faulty_Testing.RData\n",
      "Saved: Converted_CSVs\\faulty_testing.csv\n",
      "Processing: TEP_Dataset\\TEP_Faulty_Training.RData\n",
      "Saved: Converted_CSVs\\faulty_training.csv\n",
      "Conversion Completed!\n"
     ]
    }
   ],
   "source": [
    "import pyreadr\n",
    "import os\n",
    "import pandas as pd\n",
    "\n",
    "# Folder containing RData files\n",
    "folder_path = 'TEP_Dataset'\n",
    "\n",
    "# Output folder for CSV files\n",
    "output_folder = 'Converted_CSVs'\n",
    "os.makedirs(output_folder, exist_ok=True)  # Create the output folder if it doesn't exist\n",
    "\n",
    "# List all RData files in the folder\n",
    "rdata_files = [f for f in os.listdir(folder_path) if f.endswith('.RData') or f.endswith('.rdata')]\n",
    "\n",
    "# Iterate through all RData files\n",
    "for file in rdata_files:\n",
    "    file_path = os.path.join(folder_path, file)\n",
    "    print(f\"Processing: {file_path}\")\n",
    "    \n",
    "    # Read the .rdata file\n",
    "    result = pyreadr.read_r(file_path)\n",
    "    \n",
    "    # Each RData file can contain multiple objects (dataframes)\n",
    "    for key in result.keys():\n",
    "        df = result[key]  # Access dataframe\n",
    "        output_file = os.path.join(output_folder, f\"{key}.csv\")\n",
    "        \n",
    "        # Save the dataframe as CSV\n",
    "        df.to_csv(output_file, index=False)\n",
    "        print(f\"Saved: {output_file}\")\n",
    "\n",
    "print(\"Conversion Completed!\")\n"
   ]
  },
  {
   "cell_type": "code",
   "execution_count": null,
   "id": "f5e35c59-f183-47aa-8624-61f0779d52c4",
   "metadata": {},
   "outputs": [],
   "source": []
  }
 ],
 "metadata": {
  "kernelspec": {
   "display_name": "Python 3 (ipykernel)",
   "language": "python",
   "name": "python3"
  },
  "language_info": {
   "codemirror_mode": {
    "name": "ipython",
    "version": 3
   },
   "file_extension": ".py",
   "mimetype": "text/x-python",
   "name": "python",
   "nbconvert_exporter": "python",
   "pygments_lexer": "ipython3",
   "version": "3.12.5"
  }
 },
 "nbformat": 4,
 "nbformat_minor": 5
}
